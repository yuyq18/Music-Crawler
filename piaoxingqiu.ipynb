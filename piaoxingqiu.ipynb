{
 "cells": [
  {
   "cell_type": "code",
   "execution_count": 1,
   "metadata": {},
   "outputs": [],
   "source": [
    "import pandas as pd\n",
    "import requests\n",
    "import os\n",
    "import time\n",
    "from time import sleep\n",
    "import random\n",
    "import json\n",
    "import hashlib"
   ]
  },
  {
   "cell_type": "code",
   "execution_count": 2,
   "metadata": {},
   "outputs": [],
   "source": [
    "headers = {\n",
    "    # 'User-Agent': 'Mozilla/5.0 (Windows NT 10.0; Win64; x64) AppleWebKit/537.36 (KHTML, like Gecko) Chrome/58.0.3029.110 Safari/537.36 Edge/16.16299',\n",
    "    'User-Agent': 'Mozilla/5.0 (Macintosh; Intel Mac OS X 10_15_7) AppleWebKit/537.36 (KHTML, like Gecko) Chrome/124.0.0.0 Safari/537.36',\n",
    "    'Cookie': 'sensorsdata2015jssdkcross=%7B%22distinct_id%22%3A%2218f23ddc1ed5bc-01413f23bfaa98b-1b525637-1484784-18f23ddc1ee8b3%22%2C%22first_id%22%3A%22%22%2C%22props%22%3A%7B%22%24latest_traffic_source_type%22%3A%22%E7%9B%B4%E6%8E%A5%E6%B5%81%E9%87%8F%22%2C%22%24latest_search_keyword%22%3A%22%E6%9C%AA%E5%8F%96%E5%88%B0%E5%80%BC_%E7%9B%B4%E6%8E%A5%E6%89%93%E5%BC%80%22%2C%22%24latest_referrer%22%3A%22%22%7D%2C%22identities%22%3A%22eyIkaWRlbnRpdHlfY29va2llX2lkIjoiMThmMjNkZGMxZWQ1YmMtMDE0MTNmMjNiZmFhOThiLTFiNTI1NjM3LTE0ODQ3ODQtMThmMjNkZGMxZWU4YjMifQ%3D%3D%22%2C%22history_login_id%22%3A%7B%22name%22%3A%22%22%2C%22value%22%3A%22%22%7D%2C%22%24device_id%22%3A%2218f23ddc1ed5bc-01413f23bfaa98b-1b525637-1484784-18f23ddc1ee8b3%22%7D; acw_tc=276077c817155819186183972e14966ee34cf256340918d3d2e253c37eecc2; ssxmod_itna=eqRhDIqjOG8DCDyDl4iu7t+t7xQTuR2eqrKDstTDSxGKidDqxBnnkcuYGQ5Shbv4goTwxStrB22YSKCSxmTz+C8eKD=xYQDwxYoDUxGtDpxG6QwDenQD5xGoDPxDeDAmKDCydNKDdRHV9CH=F7OaICDYc7sxDOwxGCi4GtVpyzR1ptRxDWN40k/xiasx0Cy=9FDmKDIpS7Q35DFxoEESgHDmRojgEvDC9pG6PDUW5zS=KUTB2xb=RtNQrqEB2DNiiP5Bh4amhce0Wt7vh5NmTxNWh4OQha6XgD5GryqYD===; ssxmod_itna2=eqRhDIqjOG8DCDyDl4iu7t+t7xQTuR2eqxikIz3NDlgZCDj4GQ=a2=eqNzjqzn+cbrjx2+BuY0x57rYYRY2Db0arhj8C6cbjuUFcAjOuf0SIjFbTu8=9527uQzjfN=985WsNxI5/HhZn=hoprYE2W7=0=K2mN8oqbrFvNRYypa45kk+PrjrmrargikpP1aZgr6h3Ljxido/8O8=0DQ0RLzn7QIZ8PlFcL=lcH6Qjf5LiI5vTLqM92uDejaiE0o4L5sxMT0f39WwcL13Q87owwaQqdRDe+3FpMAyM+xc+Q8pHZRwqZWpdpQU+=0Mpd4zjU7tq/LLGe1xIq83Y33o8jCotEPehZPlYrNKLYKbiSAapojr5lOfT9UFptTSRW9b9lbaSrI=u3auC8TSow/ptP74DQFqRh4QuCI2qfcD/+roDbT4=78rC8r8D+bv5Qm60h5n2WVrH1nnD08DijqYD; tfstk=fEkr__g_fJ0XC8c3urwUuytNXpw8IRL1YvaQxDm3Vz4oVDmHL2gAR0iIFJvEfrM7P0wl2j3sjTMWwJ6UeJeH5F96CQn8pJm7rqURy-q3XpZuZ7cf7Pje5F96hTXr3STsOQ4M0SrLouqlEJxVnuU0qaqo-rV0jl_uKJ0nmnrTYyquq_vcokqo_xF_TFrQZUekeS9OI_P7S04rV0McMS5-VrlmgxqrBdn8uSNj3uPzSSwdemDZj0DTYvKGTyotZ4Zx8d84nYurESyeLteSbj0zgb8F3ShmXvVqMF5tX00rs5Dk3nFqecwuuvKdpzcSxvNEEFjQrY3S35HdzEaI1mMugVYf32FEZf2oLFJc41bLmBDxpb7hT7qY0Pt2mFPDZ3RXw7If96FRzoz6qXfd97V70Pt206CLwKZ453ch.',\n",
    "    'Accept': 'application/json, text/plain, */*',\n",
    "    'Accept-Encoding': 'gzip, deflate, br',\n",
    "    'Referer': 'https://m.piaoxingqiu.com/',\n",
    "    'Accept-Language': 'en-US,en;q=0.9,zh;q=0.8,zh-CN;q=0.7',\n",
    "    'Sec-Ch-Ua': '\"Chromium\";v=\"124\", \"Google Chrome\";v=\"124\", \"Not-A.Brand\";v=\"99\"',\n",
    "    'Sec-Ch-Ua-Mobile': '?0',\n",
    "    'Sec-Ch-Ua-Platform': \"macOS\",\n",
    "    'Sec-Fetch-Dest': 'document',\n",
    "    'Sec-Fetch-Mode': 'navigate',\n",
    "    'Sec-Fetch-Site': 'none',\n",
    "}"
   ]
  },
  {
   "cell_type": "code",
   "execution_count": 17,
   "metadata": {},
   "outputs": [],
   "source": [
    "base_url = 'https://m.piaoxingqiu.com/cyy_gatewayapi/home/pub/v3/show_list/search_by_front'"
   ]
  },
  {
   "cell_type": "code",
   "execution_count": 29,
   "metadata": {},
   "outputs": [],
   "source": [
    "meta_df = pd.DataFrame(columns=['isLastPage', 'count', 'offset', 'length', 'countable', 'sortingConditions', 'pageSize', 'total', 'pageNo'])\n",
    "details_df = pd.DataFrame(columns=['searchType', 'showId', 'stdShowId', 'showName', 'showDate', 'cityName', 'cityId', 'showStatus', 'minOriginalPrice', 'posterUrl', 'venueId', 'venueName', 'backendCategory', 'isFree', 'firstShowTime', 'lastShowTime', 'minOriginalPriceInfo', 'latestShowTime', 'showSessionDates', 'soldOut', 'sessionNum', 'seatPlanNum'])"
   ]
  },
  {
   "cell_type": "code",
   "execution_count": 30,
   "metadata": {},
   "outputs": [],
   "source": [
    "params = {\n",
    "    'bizFrontendCategoryId': '63f9bed409eccc0001cc32aa',\n",
    "    'cityId': '1101',\n",
    "    'length': '10',\n",
    "    'offset': '0',\n",
    "    'pageIndex': '0',\n",
    "    'pageLength': '10',\n",
    "    'pageType': 'ALL_PAGE',\n",
    "    'src': 'WEB',\n",
    "    'ver': '4.5.1',\n",
    "}  \n",
    "\n",
    "category_list = ['63f9bed409eccc0001cc32aa', '64813d19205bc10001978734']"
   ]
  },
  {
   "cell_type": "code",
   "execution_count": 31,
   "metadata": {},
   "outputs": [
    {
     "name": "stderr",
     "output_type": "stream",
     "text": [
      "/tmp/ipykernel_994423/955734810.py:17: FutureWarning: The behavior of DataFrame concatenation with empty or all-NA entries is deprecated. In a future version, this will no longer exclude empty or all-NA columns when determining the result dtypes. To retain the old behavior, exclude the relevant entries before the concat operation.\n",
      "  details_df = pd.concat([details_df, pd.DataFrame([new_detail_row])], ignore_index=True)\n"
     ]
    }
   ],
   "source": [
    "for category in category_list:\n",
    "    params['bizFrontendCategoryId'] = category\n",
    "    params['offset'] = str(0)\n",
    "    r = requests.get(base_url, headers=headers, params=params)\n",
    "    json_r = json.loads(r.text)\n",
    "\n",
    "    new_meta_row = {'isLastPage': json_r['data']['isLastPage']}\n",
    "    for col_ in meta_df.columns[1:]:\n",
    "        new_meta_row[col_] = json_r['data']['pagination'][col_]\n",
    "    meta_df = pd.concat([meta_df, pd.DataFrame([new_meta_row])], ignore_index=True)\n",
    "\n",
    "    for detail_data in json_r['data']['searchData']:\n",
    "        # new_detail_row = {'url': detail_url + str(detail_data['performanceId'])}\n",
    "        new_detail_row = {}\n",
    "        for col_ in details_df.columns:\n",
    "            new_detail_row[col_] = detail_data[col_]\n",
    "        details_df = pd.concat([details_df, pd.DataFrame([new_detail_row])], ignore_index=True)\n",
    "\n",
    "    while json_r['data']['isLastPage'] == False:\n",
    "        params['offset'] = str(int(params['offset']) + int(params['length']))\n",
    "        r = requests.get(base_url, headers=headers, params=params)\n",
    "        json_r = json.loads(r.text)\n",
    "\n",
    "        new_meta_row = {'isLastPage': json_r['data']['isLastPage']}\n",
    "        for col_ in meta_df.columns[1:]:\n",
    "            new_meta_row[col_] = json_r['data']['pagination'][col_]\n",
    "        meta_df = pd.concat([meta_df, pd.DataFrame([new_meta_row])], ignore_index=True)\n",
    "\n",
    "        for detail_data in json_r['data']['searchData']:\n",
    "            # new_detail_row = {'url': detail_url + str(detail_data['performanceId'])}\n",
    "            new_detail_row = {}\n",
    "            for col_ in details_df.columns:\n",
    "                new_detail_row[col_] = detail_data[col_]\n",
    "            details_df = pd.concat([details_df, pd.DataFrame([new_detail_row])], ignore_index=True)\n",
    "        sleep(random.randint(1, 3))\n",
    "        \n",
    "    sleep(random.randint(1, 3))"
   ]
  },
  {
   "cell_type": "code",
   "execution_count": 32,
   "metadata": {},
   "outputs": [
    {
     "data": {
      "text/html": [
       "<div>\n",
       "<style scoped>\n",
       "    .dataframe tbody tr th:only-of-type {\n",
       "        vertical-align: middle;\n",
       "    }\n",
       "\n",
       "    .dataframe tbody tr th {\n",
       "        vertical-align: top;\n",
       "    }\n",
       "\n",
       "    .dataframe thead th {\n",
       "        text-align: right;\n",
       "    }\n",
       "</style>\n",
       "<table border=\"1\" class=\"dataframe\">\n",
       "  <thead>\n",
       "    <tr style=\"text-align: right;\">\n",
       "      <th></th>\n",
       "      <th>isLastPage</th>\n",
       "      <th>count</th>\n",
       "      <th>offset</th>\n",
       "      <th>length</th>\n",
       "      <th>countable</th>\n",
       "      <th>sortingConditions</th>\n",
       "      <th>pageSize</th>\n",
       "      <th>total</th>\n",
       "      <th>pageNo</th>\n",
       "    </tr>\n",
       "  </thead>\n",
       "  <tbody>\n",
       "    <tr>\n",
       "      <th>0</th>\n",
       "      <td>False</td>\n",
       "      <td>89</td>\n",
       "      <td>0</td>\n",
       "      <td>10</td>\n",
       "      <td>True</td>\n",
       "      <td>[]</td>\n",
       "      <td>10</td>\n",
       "      <td>89</td>\n",
       "      <td>1</td>\n",
       "    </tr>\n",
       "    <tr>\n",
       "      <th>1</th>\n",
       "      <td>False</td>\n",
       "      <td>89</td>\n",
       "      <td>10</td>\n",
       "      <td>10</td>\n",
       "      <td>True</td>\n",
       "      <td>[]</td>\n",
       "      <td>10</td>\n",
       "      <td>89</td>\n",
       "      <td>2</td>\n",
       "    </tr>\n",
       "    <tr>\n",
       "      <th>2</th>\n",
       "      <td>False</td>\n",
       "      <td>89</td>\n",
       "      <td>20</td>\n",
       "      <td>10</td>\n",
       "      <td>True</td>\n",
       "      <td>[]</td>\n",
       "      <td>10</td>\n",
       "      <td>89</td>\n",
       "      <td>3</td>\n",
       "    </tr>\n",
       "    <tr>\n",
       "      <th>3</th>\n",
       "      <td>False</td>\n",
       "      <td>89</td>\n",
       "      <td>30</td>\n",
       "      <td>10</td>\n",
       "      <td>True</td>\n",
       "      <td>[]</td>\n",
       "      <td>10</td>\n",
       "      <td>89</td>\n",
       "      <td>4</td>\n",
       "    </tr>\n",
       "    <tr>\n",
       "      <th>4</th>\n",
       "      <td>False</td>\n",
       "      <td>89</td>\n",
       "      <td>40</td>\n",
       "      <td>10</td>\n",
       "      <td>True</td>\n",
       "      <td>[]</td>\n",
       "      <td>10</td>\n",
       "      <td>89</td>\n",
       "      <td>5</td>\n",
       "    </tr>\n",
       "    <tr>\n",
       "      <th>5</th>\n",
       "      <td>False</td>\n",
       "      <td>89</td>\n",
       "      <td>50</td>\n",
       "      <td>10</td>\n",
       "      <td>True</td>\n",
       "      <td>[]</td>\n",
       "      <td>10</td>\n",
       "      <td>89</td>\n",
       "      <td>6</td>\n",
       "    </tr>\n",
       "    <tr>\n",
       "      <th>6</th>\n",
       "      <td>False</td>\n",
       "      <td>89</td>\n",
       "      <td>60</td>\n",
       "      <td>10</td>\n",
       "      <td>True</td>\n",
       "      <td>[]</td>\n",
       "      <td>10</td>\n",
       "      <td>89</td>\n",
       "      <td>7</td>\n",
       "    </tr>\n",
       "    <tr>\n",
       "      <th>7</th>\n",
       "      <td>False</td>\n",
       "      <td>89</td>\n",
       "      <td>70</td>\n",
       "      <td>10</td>\n",
       "      <td>True</td>\n",
       "      <td>[]</td>\n",
       "      <td>10</td>\n",
       "      <td>89</td>\n",
       "      <td>8</td>\n",
       "    </tr>\n",
       "    <tr>\n",
       "      <th>8</th>\n",
       "      <td>True</td>\n",
       "      <td>89</td>\n",
       "      <td>80</td>\n",
       "      <td>10</td>\n",
       "      <td>True</td>\n",
       "      <td>[]</td>\n",
       "      <td>10</td>\n",
       "      <td>89</td>\n",
       "      <td>9</td>\n",
       "    </tr>\n",
       "    <tr>\n",
       "      <th>9</th>\n",
       "      <td>False</td>\n",
       "      <td>11</td>\n",
       "      <td>0</td>\n",
       "      <td>10</td>\n",
       "      <td>True</td>\n",
       "      <td>[]</td>\n",
       "      <td>10</td>\n",
       "      <td>11</td>\n",
       "      <td>1</td>\n",
       "    </tr>\n",
       "    <tr>\n",
       "      <th>10</th>\n",
       "      <td>True</td>\n",
       "      <td>11</td>\n",
       "      <td>10</td>\n",
       "      <td>10</td>\n",
       "      <td>True</td>\n",
       "      <td>[]</td>\n",
       "      <td>10</td>\n",
       "      <td>11</td>\n",
       "      <td>2</td>\n",
       "    </tr>\n",
       "  </tbody>\n",
       "</table>\n",
       "</div>"
      ],
      "text/plain": [
       "   isLastPage count offset length countable sortingConditions pageSize total  \\\n",
       "0       False    89      0     10      True                []       10    89   \n",
       "1       False    89     10     10      True                []       10    89   \n",
       "2       False    89     20     10      True                []       10    89   \n",
       "3       False    89     30     10      True                []       10    89   \n",
       "4       False    89     40     10      True                []       10    89   \n",
       "5       False    89     50     10      True                []       10    89   \n",
       "6       False    89     60     10      True                []       10    89   \n",
       "7       False    89     70     10      True                []       10    89   \n",
       "8        True    89     80     10      True                []       10    89   \n",
       "9       False    11      0     10      True                []       10    11   \n",
       "10       True    11     10     10      True                []       10    11   \n",
       "\n",
       "   pageNo  \n",
       "0       1  \n",
       "1       2  \n",
       "2       3  \n",
       "3       4  \n",
       "4       5  \n",
       "5       6  \n",
       "6       7  \n",
       "7       8  \n",
       "8       9  \n",
       "9       1  \n",
       "10      2  "
      ]
     },
     "execution_count": 32,
     "metadata": {},
     "output_type": "execute_result"
    }
   ],
   "source": [
    "meta_df"
   ]
  },
  {
   "cell_type": "code",
   "execution_count": 21,
   "metadata": {},
   "outputs": [
    {
     "data": {
      "text/plain": [
       "array([\"{'code': 17, 'displayName': '演唱会', 'name': 'YanChangHui'}\",\n",
       "       \"{'code': 19, 'displayName': 'Livehouse', 'name': 'Livehouse'}\",\n",
       "       \"{'code': 18, 'displayName': '音乐节', 'name': 'MusicFestival'}\"],\n",
       "      dtype=object)"
      ]
     },
     "execution_count": 21,
     "metadata": {},
     "output_type": "execute_result"
    }
   ],
   "source": [
    "details_df['backendCategory'].unique()"
   ]
  },
  {
   "cell_type": "code",
   "execution_count": 34,
   "metadata": {},
   "outputs": [],
   "source": [
    "# save to csv file\n",
    "meta_df.to_csv('piaoxingqiu/meta-20240513.csv', index=False)\n",
    "details_df.to_csv('piaoxingqiu/details-20240513.csv', index=False)"
   ]
  },
  {
   "cell_type": "markdown",
   "metadata": {},
   "source": [
    "# 爬取每场演出的Details"
   ]
  },
  {
   "cell_type": "code",
   "execution_count": 3,
   "metadata": {},
   "outputs": [
    {
     "data": {
      "text/plain": [
       "100"
      ]
     },
     "execution_count": 3,
     "metadata": {},
     "output_type": "execute_result"
    }
   ],
   "source": [
    "details_df = pd.read_csv('piaoxingqiu/details-20240513.csv')\n",
    "detail_id_list = list(details_df['showId'])\n",
    "len(detail_id_list)"
   ]
  },
  {
   "cell_type": "code",
   "execution_count": 4,
   "metadata": {},
   "outputs": [],
   "source": [
    "detail_url = 'https://m.piaoxingqiu.com/cyy_gatewayapi/show/pub/v5/show/%s/static'"
   ]
  },
  {
   "cell_type": "code",
   "execution_count": 45,
   "metadata": {},
   "outputs": [],
   "source": [
    "# params = {\n",
    "#     'src': 'WEB',\n",
    "#     'ver': '4.5.1',\n",
    "#     'cityId': '1101',\n",
    "#     'source': 'FROM_QUICK_ORDER',\n",
    "#     'siteId': '6268b17853245f055f21d677',\n",
    "# }"
   ]
  },
  {
   "cell_type": "code",
   "execution_count": 46,
   "metadata": {},
   "outputs": [
    {
     "data": {
      "text/plain": [
       "'65ee797bcfc3b20001cdc8d4'"
      ]
     },
     "execution_count": 46,
     "metadata": {},
     "output_type": "execute_result"
    }
   ],
   "source": [
    "detail_id_list[0]"
   ]
  },
  {
   "cell_type": "code",
   "execution_count": 22,
   "metadata": {},
   "outputs": [
    {
     "name": "stdout",
     "output_type": "stream",
     "text": [
      "100\n"
     ]
    }
   ],
   "source": [
    "exist_files_1 = os.listdir('./piaoxingqiu/details')\n",
    "exist_ids = [file.split('.')[0] for file in exist_files_1]\n",
    "print(len(exist_ids))"
   ]
  },
  {
   "cell_type": "code",
   "execution_count": 19,
   "metadata": {},
   "outputs": [
    {
     "data": {
      "text/plain": [
       "['660a7cab4102b600015f57b8',\n",
       " '6617bfea2aadcb00012e134f',\n",
       " '65ee797bcfc3b20001cdc8d4',\n",
       " '65fd34f7d352630001d9582d']"
      ]
     },
     "execution_count": 19,
     "metadata": {},
     "output_type": "execute_result"
    }
   ],
   "source": [
    "exist_ids"
   ]
  },
  {
   "cell_type": "code",
   "execution_count": 20,
   "metadata": {},
   "outputs": [
    {
     "name": "stdout",
     "output_type": "stream",
     "text": [
      "正在爬取第4个 662608468b46140001f5aa65\n",
      "第4个 662608468b46140001f5aa65 爬取完成\n",
      "正在爬取第5个 65fcfcad7ad22400010073a4\n",
      "第5个 65fcfcad7ad22400010073a4 爬取完成\n",
      "正在爬取第6个 66050ac51e59c10001881b4d\n",
      "第6个 66050ac51e59c10001881b4d 爬取完成\n",
      "正在爬取第7个 661219ff883d1c00019ccb70\n",
      "第7个 661219ff883d1c00019ccb70 爬取完成\n",
      "正在爬取第8个 65f2b4c09a167000019a2e64\n",
      "第8个 65f2b4c09a167000019a2e64 爬取完成\n",
      "正在爬取第9个 662a0cff129e710001d3aa0b\n",
      "第9个 662a0cff129e710001d3aa0b 爬取完成\n",
      "正在爬取第10个 6628b35d4d74d3000148c719\n",
      "第10个 6628b35d4d74d3000148c719 爬取完成\n",
      "正在爬取第11个 6617bb2a5dd5c50001afd15f\n",
      "第11个 6617bb2a5dd5c50001afd15f 爬取完成\n",
      "正在爬取第12个 661763f15dd5c50001a3944b\n",
      "第12个 661763f15dd5c50001a3944b 爬取完成\n",
      "正在爬取第13个 662f196442c8a200017330dc\n",
      "第13个 662f196442c8a200017330dc 爬取完成\n",
      "正在爬取第14个 6612206ed61da000013a85fa\n",
      "第14个 6612206ed61da000013a85fa 爬取完成\n",
      "正在爬取第15个 65b89da8adb0560001df1088\n",
      "第15个 65b89da8adb0560001df1088 爬取完成\n",
      "正在爬取第16个 6616533f16d779000174a1f1\n",
      "第16个 6616533f16d779000174a1f1 爬取完成\n",
      "正在爬取第17个 660bc3ad15f6ea0001d7b249\n",
      "第17个 660bc3ad15f6ea0001d7b249 爬取完成\n",
      "正在爬取第18个 655f2f68a1389300012098dc\n",
      "第18个 655f2f68a1389300012098dc 爬取完成\n",
      "正在爬取第19个 660bbb86efa6bd00017d93f4\n",
      "第19个 660bbb86efa6bd00017d93f4 爬取完成\n",
      "正在爬取第20个 662a177e5144d80001c3f848\n",
      "第20个 662a177e5144d80001c3f848 爬取完成\n",
      "正在爬取第21个 65bcae1bc48d9d0001faa0ec\n",
      "第21个 65bcae1bc48d9d0001faa0ec 爬取完成\n",
      "正在爬取第22个 65f9010a9519d70001a3fc79\n",
      "第22个 65f9010a9519d70001a3fc79 爬取完成\n",
      "正在爬取第23个 65e6b66471d5d40001613d38\n",
      "第23个 65e6b66471d5d40001613d38 爬取完成\n",
      "正在爬取第24个 65dd9309ea6cef00018c92f9\n",
      "第24个 65dd9309ea6cef00018c92f9 爬取完成\n",
      "正在爬取第25个 65f153918027fb00013a85cc\n",
      "第25个 65f153918027fb00013a85cc 爬取完成\n",
      "正在爬取第26个 663dcf1305cd1800015f302c\n",
      "第26个 663dcf1305cd1800015f302c 爬取完成\n",
      "正在爬取第27个 66011428712d9e0001b8be00\n",
      "第27个 66011428712d9e0001b8be00 爬取完成\n",
      "正在爬取第28个 65c34db2acbdf800010ff2d8\n",
      "第28个 65c34db2acbdf800010ff2d8 爬取完成\n",
      "正在爬取第29个 660d80672aadcb0001249240\n",
      "第29个 660d80672aadcb0001249240 爬取完成\n",
      "正在爬取第30个 662e01e320a8020001f5d420\n",
      "第30个 662e01e320a8020001f5d420 爬取完成\n",
      "正在爬取第31个 65fd1d75fb494c00012454de\n",
      "第31个 65fd1d75fb494c00012454de 爬取完成\n",
      "正在爬取第32个 661f42d9f11aeb0001ea6f56\n",
      "第32个 661f42d9f11aeb0001ea6f56 爬取完成\n",
      "正在爬取第33个 65f8ff25de21ce0001ac0ec4\n",
      "第33个 65f8ff25de21ce0001ac0ec4 爬取完成\n",
      "正在爬取第34个 64fec4e8f38b52000110f72e\n",
      "第34个 64fec4e8f38b52000110f72e 爬取完成\n",
      "正在爬取第35个 65f91b059519d70001a7b78c\n",
      "第35个 65f91b059519d70001a7b78c 爬取完成\n",
      "正在爬取第36个 64f5bab98e7a8c00018beabb\n",
      "第36个 64f5bab98e7a8c00018beabb 爬取完成\n",
      "正在爬取第37个 6620daa74138080001359201\n",
      "第37个 6620daa74138080001359201 爬取完成\n",
      "正在爬取第38个 6433bb7f77228d0001745d51\n",
      "第38个 6433bb7f77228d0001745d51 爬取完成\n",
      "正在爬取第39个 65f423f99519d700011ae9c8\n",
      "第39个 65f423f99519d700011ae9c8 爬取完成\n",
      "正在爬取第40个 6621f4028b46140001879a3e\n",
      "第40个 6621f4028b46140001879a3e 爬取完成\n",
      "正在爬取第41个 6630c4a556b9f20001605e1d\n",
      "第41个 6630c4a556b9f20001605e1d 爬取完成\n",
      "正在爬取第42个 662b3c7d8b4614000189f37d\n",
      "第42个 662b3c7d8b4614000189f37d 爬取完成\n",
      "正在爬取第43个 6620e914413808000138e714\n",
      "第43个 6620e914413808000138e714 爬取完成\n",
      "正在爬取第44个 66221013129e710001f46b81\n",
      "第44个 66221013129e710001f46b81 爬取完成\n",
      "正在爬取第45个 663efcd9c3a5ce000162c20e\n",
      "第45个 663efcd9c3a5ce000162c20e 爬取完成\n",
      "正在爬取第46个 661f3f7c4138080001f3b604\n",
      "第46个 661f3f7c4138080001f3b604 爬取完成\n",
      "正在爬取第47个 660ac598fceb5b000134f389\n",
      "第47个 660ac598fceb5b000134f389 爬取完成\n",
      "正在爬取第48个 662481ce5144d800012736dd\n",
      "第48个 662481ce5144d800012736dd 爬取完成\n",
      "正在爬取第49个 662ded785144d800012ee1eb\n",
      "第49个 662ded785144d800012ee1eb 爬取完成\n",
      "正在爬取第50个 660abe92fceb5b00013411af\n",
      "第50个 660abe92fceb5b00013411af 爬取完成\n",
      "正在爬取第51个 6630611756b9f2000144c2fd\n",
      "第51个 6630611756b9f2000144c2fd 爬取完成\n",
      "正在爬取第52个 6620f6cee1b6eb0001cbabbc\n",
      "第52个 6620f6cee1b6eb0001cbabbc 爬取完成\n",
      "正在爬取第53个 662dfb8c4d74d30001dcfd76\n",
      "第53个 662dfb8c4d74d30001dcfd76 爬取完成\n",
      "正在爬取第54个 6617ae41d61da00001e0ddfd\n",
      "第54个 6617ae41d61da00001e0ddfd 爬取完成\n",
      "正在爬取第55个 6620827420a8020001664880\n",
      "第55个 6620827420a8020001664880 爬取完成\n",
      "正在爬取第56个 662870bc8b461400013a8c4e\n",
      "第56个 662870bc8b461400013a8c4e 爬取完成\n",
      "正在爬取第57个 662dfb92aad20400017b1e0d\n",
      "第57个 662dfb92aad20400017b1e0d 爬取完成\n",
      "正在爬取第58个 663a00e7a9ea350001edef70\n",
      "第58个 663a00e7a9ea350001edef70 爬取完成\n",
      "正在爬取第59个 65f423f7f3532400017eea7e\n",
      "第59个 65f423f7f3532400017eea7e 爬取完成\n",
      "正在爬取第60个 661f42e28b461400012169d3\n",
      "第60个 661f42e28b461400012169d3 爬取完成\n",
      "正在爬取第61个 661cfb4c5dd5c500013d2cce\n",
      "第61个 661cfb4c5dd5c500013d2cce 爬取完成\n",
      "正在爬取第62个 662dd1718b46140001d379ba\n",
      "第62个 662dd1718b46140001d379ba 爬取完成\n",
      "正在爬取第63个 6630e4dc5b85580001fe2ea5\n",
      "第63个 6630e4dc5b85580001fe2ea5 爬取完成\n",
      "正在爬取第64个 6639bcedaf294e0001d98b24\n",
      "第64个 6639bcedaf294e0001d98b24 爬取完成\n",
      "正在爬取第65个 661e2293e1b6eb00016872a3\n",
      "第65个 661e2293e1b6eb00016872a3 爬取完成\n",
      "正在爬取第66个 662b2e714d74d300018ca23b\n",
      "第66个 662b2e714d74d300018ca23b 爬取完成\n",
      "正在爬取第67个 6638a3a45b85580001b8936b\n",
      "第67个 6638a3a45b85580001b8936b 爬取完成\n",
      "正在爬取第68个 660934d2b6808500014263ac\n",
      "第68个 660934d2b6808500014263ac 爬取完成\n",
      "正在爬取第69个 6630898b0e64ba00011ce60c\n",
      "第69个 6630898b0e64ba00011ce60c 爬取完成\n",
      "正在爬取第70个 662f06b915db9e00011e3f22\n",
      "第70个 662f06b915db9e00011e3f22 爬取完成\n",
      "正在爬取第71个 660ac59d1e59c100012224ee\n",
      "第71个 660ac59d1e59c100012224ee 爬取完成\n",
      "正在爬取第72个 660ac59c49fcf00001524193\n",
      "第72个 660ac59c49fcf00001524193 爬取完成\n",
      "正在爬取第73个 6627954b5144d80001792e73\n",
      "第73个 6627954b5144d80001792e73 爬取完成\n",
      "正在爬取第74个 662cbf2daad20400015b4d34\n",
      "第74个 662cbf2daad20400015b4d34 爬取完成\n",
      "正在爬取第75个 6630c1ae125fc000015dd772\n",
      "第75个 6630c1ae125fc000015dd772 爬取完成\n",
      "正在爬取第76个 663895aa126e6900012fa772\n",
      "第76个 663895aa126e6900012fa772 爬取完成\n",
      "正在爬取第77个 660934d40a7fad000194acc7\n",
      "第77个 660934d40a7fad000194acc7 爬取完成\n",
      "正在爬取第78个 66266e064138080001d44749\n",
      "第78个 66266e064138080001d44749 爬取完成\n",
      "正在爬取第79个 6639a7d5a9ea350001e38d5a\n",
      "第79个 6639a7d5a9ea350001e38d5a 爬取完成\n",
      "正在爬取第80个 6412e2375ed8a50001a5b426\n",
      "第80个 6412e2375ed8a50001a5b426 爬取完成\n",
      "正在爬取第81个 6639e37dccba2700019f487d\n",
      "第81个 6639e37dccba2700019f487d 爬取完成\n",
      "正在爬取第82个 660ac59949fcf00001524106\n",
      "第82个 660ac59949fcf00001524106 爬取完成\n",
      "正在爬取第83个 660934d6fceb5b00010949bc\n",
      "第83个 660934d6fceb5b00010949bc 爬取完成\n",
      "正在爬取第84个 6639aed40d16940001a7e090\n",
      "第84个 6639aed40d16940001a7e090 爬取完成\n",
      "正在爬取第85个 661e53d4aad2040001ae6432\n",
      "第85个 661e53d4aad2040001ae6432 爬取完成\n",
      "正在爬取第86个 65f423f68027fb000174097d\n",
      "第86个 65f423f68027fb000174097d 爬取完成\n",
      "正在爬取第87个 6622090d20a8020001a7189a\n",
      "第87个 6622090d20a8020001a7189a 爬取完成\n",
      "正在爬取第88个 6622090faad20400012d00ee\n",
      "第88个 6622090faad20400012d00ee 爬取完成\n",
      "正在爬取第89个 662602534138080001c78d2f\n",
      "第89个 662602534138080001c78d2f 爬取完成\n",
      "正在爬取第90个 66274ef3aad2040001ba06d6\n",
      "第90个 66274ef3aad2040001ba06d6 爬取完成\n",
      "正在爬取第91个 65178be2f77fd50001f9071a\n",
      "第91个 65178be2f77fd50001f9071a 爬取完成\n",
      "正在爬取第92个 649daac873fffa00011efdfe\n",
      "第92个 649daac873fffa00011efdfe 爬取完成\n",
      "正在爬取第93个 662f8dc942c8a2000185af7c\n",
      "第93个 662f8dc942c8a2000185af7c 爬取完成\n",
      "正在爬取第94个 62b5733be24c3a1673df3fbd\n",
      "第94个 62b5733be24c3a1673df3fbd 爬取完成\n",
      "正在爬取第95个 649da559c4d525000189e8cf\n",
      "第95个 649da559c4d525000189e8cf 爬取完成\n",
      "正在爬取第96个 64c8c865383d700001d9be6a\n",
      "第96个 64c8c865383d700001d9be6a 爬取完成\n",
      "正在爬取第97个 648957e0b15ea50001e0d04a\n",
      "第97个 648957e0b15ea50001e0d04a 爬取完成\n",
      "正在爬取第98个 64d9a0e9f4dbe5000131a7b8\n",
      "第98个 64d9a0e9f4dbe5000131a7b8 爬取完成\n",
      "正在爬取第99个 6497fb9203b2d200018d5b53\n",
      "第99个 6497fb9203b2d200018d5b53 爬取完成\n"
     ]
    }
   ],
   "source": [
    "for i, detail_id in enumerate(detail_id_list):\n",
    "    if detail_id in exist_ids:\n",
    "        continue\n",
    "    print(f'正在爬取第{i}个 {detail_id}')\n",
    "    r = requests.get(detail_url % detail_id, headers=headers)\n",
    "    json_r = json.loads(r.text)\n",
    "\n",
    "    json_docs = {}\n",
    "    for col_ in details_df.columns:\n",
    "        json_docs[col_] = str(details_df[details_df['showId']==detail_id][col_].values[0])\n",
    "    \n",
    "    json_docs.update(json_r['data'])\n",
    "\n",
    "    with open('piaoxingqiu/details/%s.json' % detail_id, 'w') as f:\n",
    "        json.dump(json_docs, f, indent=4, ensure_ascii=False)\n",
    "    print(f'第{i}个 {detail_id} 爬取完成')\n",
    "    sleep(random.randint(1, 3))"
   ]
  },
  {
   "cell_type": "code",
   "execution_count": 5,
   "metadata": {},
   "outputs": [
    {
     "data": {
      "text/plain": [
       "'{\"statusCode\":200,\"comments\":\"成功\",\"mode\":0,\"result\":{},\"data\":{\"rsCode\":200,\"basicInfo\":{\"hotMode\":true,\"stdShowId\":\"65ee797bcfc3b20001cdc8d3\",\"showName\":\"【太原】2024张杰未·LIVE—「开往1982」巡回演唱会-太原站\",\"sourceType\":\"SELF_BUILT_EXTERNAL_PRODUCE\",\"originalSeatPickType\":\"SUPPORT_NONE\",\"contentUrl\":\"https://cdn.ticketmars.com/prod/showContent/65ee797bcfc3b20001cdc8d4/content_662f2d2a42c8a20001776879.content\",\"posterUrl\":\"https://cdn.ticketmars.com/image/prod/20240423_21/17138469034104013.jpg\",\"posterColor\":\"#592828ff\",\"venueId\":\"61c134ccc756b131bffb4669\",\"venueName\":\"山西体育中心体育场\",\"venueAddress\":\"太原市晋源区滨河西路与健康北街交汇处(祥云桥往南200米健康北街右转)\",\"venueLat\":37.759067,\"venueLng\":112.530044,\"cityId\":\"1401\",\"cityName\":\"太原市\",\"onSaleShowCount\":1,\"showTags\":[],\"authorizationUrl\":\"\",\"minOriginalPriceInfo\":{\"yuanNum\":\"380\",\"centNum\":\"\",\"suffix\":\"\",\"prefix\":\"￥\"},\"maxOriginalPriceInfo\":{\"yuanNum\":\"1680\",\"centNum\":\"\",\"suffix\":\"\",\"prefix\":\"￥\"},\"showDate\":\"2024年05月31日 - 06月02日\",\"showDuration\":\"约150分钟（以现场为准）\",\"displayAdvance\":false,\"venueDisplayAdvance\":false,\"sessionDisplayAdvance\":false,\"seatPlanDisplayAdvance\":false,\"showType\":{\"name\":\"YanChangHui\"},\"showDetailStatus\":\"PRE_SALE\",\"existsPrivilegePurchase\":false,\"displayCountdownTime\":true,\"captchaSwitch\":true,\"captchaVerifyStartTime\":1714364340000,\"captchaVerifyEndTime\":1714366200000,\"captchaTypes\":[\"ARITHMETIC\"]},\"additionalInfo\":{\"hasCoupon\":true,\"hasPromo\":false,\"hasUserPromo\":false,\"hasPCard\":false,\"hasPriority\":false,\"hasChannelDiscount\":false,\"checkChannelFreeCombo\":false,\"channelPickSeatProject\":false,\"hasTyingSale\":false},\"descInfo\":{\"observationInstructions\":[{\"key\":\"TICKETS_AND_ADMISSION\",\"name\":\"票品及入场\",\"value\":\"纸质票：须携带纸质门票验票入场\",\"isMarked\":false,\"isOrderMarked\":false,\"seq\":1},{\"key\":\"ENTRY_TIME\",\"name\":\"入场时间\",\"value\":\"请于开始前约120分钟入场\",\"isMarked\":false,\"isOrderMarked\":false,\"seq\":2},{\"key\":\"SHOW_DURATION\",\"name\":\"演出时长\",\"value\":\"约150分钟（以现场为准）\",\"isMarked\":false,\"isOrderMarked\":false,\"seq\":3},{\"key\":\"MAIN_ACTOR\",\"name\":\"主要演员(团体)\",\"value\":\"张杰\",\"isMarked\":false,\"isOrderMarked\":false,\"seq\":4},{\"key\":\"MINIMUM_SHOW_DURATION\",\"name\":\"最低演出时长\",\"value\":\"约150分钟（以现场为准）\",\"isMarked\":false,\"isOrderMarked\":false,\"seq\":5},{\"key\":\"MINIMUM_SHOW_NUMBER\",\"name\":\"最低演出曲目\",\"value\":\"30首（以现场为准）\",\"isMarked\":false,\"isOrderMarked\":false,\"seq\":6},{\"key\":\"RESTRICTED_ITEM\",\"name\":\"禁止携带物品\",\"value\":\"由于安保和版权的原因，大多数演出、展览及比赛场所禁止携带食品、饮料、专业摄录设备、打火机等物品，请您注意现场工作人员和广播的提示，予以配合。\",\"isMarked\":false,\"isOrderMarked\":false,\"seq\":7},{\"key\":\"LUGGAGE_DEPOSIT\",\"name\":\"物品寄存\",\"value\":\"无寄存处,请自行保管携带物品，谨防贵重物品丢失。\",\"isMarked\":false,\"isOrderMarked\":false,\"seq\":8}],\"ticketInstructions\":[{\"key\":\"CHILDREN_INTRODUCTION\",\"name\":\"儿童购票\",\"value\":\"儿童一律凭票入场\",\"isMarked\":false,\"isOrderMarked\":false,\"seq\":1},{\"key\":\"DELIVERY_DESC\",\"name\":\"配送信息说明\",\"value\":\"不支持修改配送电话、地址等信息\",\"seq\":2},{\"key\":\"REAL_NAME_PURCHASE_TICKET_INTRODUCTION\",\"name\":\"实名购票规则\",\"value\":\"一张门票对应一个证件；证件支持：身份证/护照/台湾居民来往大陆通行证/港澳居民来往内地通行证\",\"isMarked\":false,\"tagContent\":\"门票对应唯一证件(身份证/护照/台湾居民来往大陆通行证/港澳居民来往内地通行证)\",\"isOrderMarked\":false,\"seq\":3},{\"key\":\"EXCEPTION_ORDER_INTRODUCTION\",\"name\":\"异常排单说明\",\"value\":\"对于异常订购行为，商家有权在订单成立或者生效之后取消相应订单。 异常订购行为包括但不限于以下情形： （1）通过同一ID订购超出限购张数的订单。 （2）经合理判断认为非真实消费者的下单行为，包括但不限于通过批量相同或虚构的支付账号、收货地址（包括下单时填写及最终实际收货地址）、收件人、电话号码订购超出限购张数的订单。\",\"isMarked\":false,\"isOrderMarked\":false,\"seq\":4},{\"key\":\"LIMITATION\",\"name\":\"限购规则\",\"value\":\"每个场次限购4张/套，项目限购4张/套\",\"isMarked\":false,\"isOrderMarked\":false,\"seq\":5},{\"key\":\"INVOICE_INTRODUCTION\",\"name\":\"发票说明\",\"value\":\"该发票由演出主办方提供。请在演出开始前，通过【我的-客服】提交发票申请，一般演出结束后1个月内开具。\",\"isMarked\":false,\"isOrderMarked\":false,\"seq\":6}],\"markedTextList\":[]},\"noteInfos\":[{\"name\":\"支持有条件退\",\"value\":\"\",\"type\":true,\"code\":\"CONDITION_REFUND\",\"refundCfg\":{\"showName\":\"【太原】2024张杰未·LIVE—「开往1982」巡回演唱会-太原站\",\"refundTimes\":1,\"type\":\"SESSION_SETTING\",\"rateItems\":[{\"rate\":0.0,\"sessionItems\":[{\"sessionBeginTime\":1717155000000,\"sessionName\":\"2024-05-31 周五 19:30\",\"timeRange\":[{\"left\":\"2024-04-29 12:20\",\"right\":\"2024-05-01 12:19\"}]},{\"sessionBeginTime\":1717241400000,\"sessionName\":\"2024-06-01 周六 19:30\",\"timeRange\":[{\"left\":\"2024-04-29 12:20\",\"right\":\"2024-05-01 12:19\"}]},{\"sessionBeginTime\":1717327800000,\"sessionName\":\"2024-06-02 周日 19:30\",\"timeRange\":[{\"left\":\"2024-04-29 12:20\",\"right\":\"2024-05-01 12:19\"}]}]},{\"rate\":20.0,\"sessionItems\":[{\"sessionBeginTime\":1717155000000,\"sessionName\":\"2024-05-31 周五 19:30\",\"timeRange\":[{\"left\":\"2024-05-01 12:20\",\"right\":\"2024-05-06 12:19\"}]},{\"sessionBeginTime\":1717241400000,\"sessionName\":\"2024-06-01 周六 19:30\",\"timeRange\":[{\"left\":\"2024-05-01 12:20\",\"right\":\"2024-05-06 12:19\"}]},{\"sessionBeginTime\":1717327800000,\"sessionName\":\"2024-06-02 周日 19:30\",\"timeRange\":[{\"left\":\"2024-05-01 12:20\",\"right\":\"2024-05-06 12:19\"}]}]}]}},{\"name\":\"实名观演\",\"value\":\"一张门票对应一个证件；证件支持：身份证/护照/台湾居民来往大陆通行证/港澳居民来往内地通行证\",\"type\":true,\"code\":\"REAL_NAME_TICKET\"},{\"name\":\"电子票-身份证\",\"value\":\"通过身份证件，可以直接验票入场（具体以下单后票舱信息为准）\",\"type\":true,\"code\":\"ID_CARD\"},{\"name\":\"发票说明\",\"value\":\"该发票由演出主办方提供。请在演出开始前，通过【我的-客服】提交发票申请，一般演出结束后1个月内开具。\",\"type\":false,\"code\":\"BILL_APPLY\"}],\"specialNoteInfos\":[{\"name\":\"预售\",\"value\":\"本项目正在预售，下单后无法立即为您配票。正式开票后（一般于节目举办前1-2周），票品信息（包括换票、入场方式）将陆续更新，届时您可通过订单详情页或票舱详情查看。\",\"type\":true,\"code\":\"SHOW_PRESALE\",\"desc\":\"此项目为预售，待项目正式开票后为您配票\"}],\"announcement\":[],\"whiteTags\":[]}}'"
      ]
     },
     "execution_count": 5,
     "metadata": {},
     "output_type": "execute_result"
    }
   ],
   "source": [
    "# test\n",
    "detail_id_url = detail_url % (detail_id_list[0])\n",
    "detail_id_url\n",
    "test_r = requests.get(detail_id_url, headers=headers)\n",
    "test_r.text"
   ]
  },
  {
   "cell_type": "code",
   "execution_count": 10,
   "metadata": {},
   "outputs": [
    {
     "data": {
      "text/plain": [
       "dict_keys(['statusCode', 'comments', 'mode', 'result', 'data'])"
      ]
     },
     "execution_count": 10,
     "metadata": {},
     "output_type": "execute_result"
    }
   ],
   "source": [
    "test_r_json = json.loads(test_r.text)\n",
    "test_r_json.keys()"
   ]
  },
  {
   "cell_type": "code",
   "execution_count": 53,
   "metadata": {},
   "outputs": [
    {
     "data": {
      "text/plain": [
       "{'hasCoupon': True,\n",
       " 'hasPromo': False,\n",
       " 'hasUserPromo': False,\n",
       " 'hasPCard': False,\n",
       " 'hasPriority': False,\n",
       " 'hasChannelDiscount': False,\n",
       " 'checkChannelFreeCombo': False,\n",
       " 'channelPickSeatProject': False,\n",
       " 'hasTyingSale': False}"
      ]
     },
     "execution_count": 53,
     "metadata": {},
     "output_type": "execute_result"
    }
   ],
   "source": [
    "test_r_json['data']['additionalInfo']"
   ]
  },
  {
   "cell_type": "code",
   "execution_count": 8,
   "metadata": {},
   "outputs": [
    {
     "data": {
      "text/plain": [
       "dict_keys(['rsCode', 'basicInfo', 'additionalInfo', 'descInfo', 'noteInfos', 'specialNoteInfos', 'announcement', 'whiteTags'])"
      ]
     },
     "execution_count": 8,
     "metadata": {},
     "output_type": "execute_result"
    }
   ],
   "source": [
    "test_r_json['data'].keys()"
   ]
  },
  {
   "cell_type": "code",
   "execution_count": null,
   "metadata": {},
   "outputs": [],
   "source": []
  }
 ],
 "metadata": {
  "kernelspec": {
   "display_name": "CV",
   "language": "python",
   "name": "python3"
  },
  "language_info": {
   "codemirror_mode": {
    "name": "ipython",
    "version": 3
   },
   "file_extension": ".py",
   "mimetype": "text/x-python",
   "name": "python",
   "nbconvert_exporter": "python",
   "pygments_lexer": "ipython3",
   "version": "3.11.8"
  }
 },
 "nbformat": 4,
 "nbformat_minor": 2
}
